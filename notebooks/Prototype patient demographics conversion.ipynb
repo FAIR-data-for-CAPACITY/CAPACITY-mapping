{
 "cells": [
  {
   "cell_type": "code",
   "execution_count": 61,
   "id": "exterior-calcium",
   "metadata": {},
   "outputs": [],
   "source": [
    "import rdflib\n",
    "from rdflib import FOAF, RDF, URIRef, Literal, SKOS, Namespace\n",
    "import datetime as dt"
   ]
  },
  {
   "cell_type": "markdown",
   "id": "incredible-remark",
   "metadata": {},
   "source": [
    "# Creating example patient demographics data"
   ]
  },
  {
   "cell_type": "code",
   "execution_count": 62,
   "id": "loose-omega",
   "metadata": {},
   "outputs": [],
   "source": [
    "# I'm making up a new namespace to define the property 'id'\n",
    "\n",
    "CUSTOM = Namespace('http://example.org/customNamespace/')\n",
    "\n",
    "# I'm using the schema birthdate property\n",
    "SCHEMA = Namespace('https://schema.org/')\n",
    "\n",
    "Alice = URIRef('http://example.org/people/Alice')\n",
    "Heidi = URIRef('http://example.org/people/Heidi')\n",
    "\n",
    "g = rdflib.Graph()\n",
    "\n",
    "g.add((Alice, CUSTOM.id, Literal('12345')))\n",
    "g.add((Alice, RDF.type, FOAF.Person))\n",
    "g.add((Alice, FOAF.name, Literal('Alice Williams')))\n",
    "g.add((Alice, SCHEMA.birthDate, Literal(dt.date(1981, 3,4))))\n",
    "\n",
    "\n",
    "g.add((Heidi, CUSTOM.id, Literal('5678')))\n",
    "g.add((Heidi, RDF.type, FOAF.Person))\n",
    "g.add((Heidi, FOAF.name, Literal('Heidi Cook')))\n",
    "g.add((Heidi, SCHEMA.birthDate, Literal(dt.date(1991, 3,10))))"
   ]
  },
  {
   "cell_type": "markdown",
   "id": "oriental-volume",
   "metadata": {},
   "source": [
    "# Querying the patients\n",
    "For this quick prototype we're assuming that the URI of the elements serve as patient ids.\n",
    "The fieldnames in the `SELECT` statement should match the fieldnames required in the fhir resources."
   ]
  },
  {
   "cell_type": "code",
   "execution_count": 63,
   "id": "cheap-juvenile",
   "metadata": {},
   "outputs": [],
   "source": [
    "query = '''\n",
    "PREFIX foaf: <http://xmlns.com/foaf/0.1/>\n",
    "PREFIX custom: <http://example.org/customNamespace/>\n",
    "PREFIX schema: <https://schema.org/>\n",
    "\n",
    "SELECT ?id ?name ?birthDate\n",
    "WHERE{\n",
    "\n",
    "?person a foaf:Person ;\n",
    "    foaf:name ?name ;\n",
    "    custom:id ?id ;\n",
    "    schema:birthDate ?birthDate\n",
    "}\n",
    "'''"
   ]
  },
  {
   "cell_type": "code",
   "execution_count": 64,
   "id": "animated-spectrum",
   "metadata": {},
   "outputs": [
    {
     "name": "stdout",
     "output_type": "stream",
     "text": [
      "id: 12345\n",
      "name: Alice Williams\n",
      "birthDate: 1981-03-04\n",
      "\n",
      "id: 5678\n",
      "name: Heidi Cook\n",
      "birthDate: 1991-03-10\n",
      "\n"
     ]
    }
   ],
   "source": [
    "result = g.query(query)\n",
    "\n",
    "for r in g.query(query):\n",
    "    for k, v in r.asdict().items():\n",
    "        print(f'{k}: {v}')\n",
    "        \n",
    "    print('')"
   ]
  },
  {
   "cell_type": "markdown",
   "id": "brown-aquarium",
   "metadata": {},
   "source": [
    "# Converting triples to fhir resources\n",
    "The properties we have extracted from the triplestore are close to the structure required by the fhir resources. However, some properties in the fhir resources have a more nested structure than our list of dicts currently has.\n",
    "For example, the Patient resource contains a field *name* which should contain a *list* of items of the type *HumanName*. The type *HumanName* is a fhir type that contains multiple fields such as *given* and *family*.\n",
    "\n",
    "The `create_patient` function maps the flat dicts into a more hierachical structure that can be parsed by the `Patient` class in `fhir.resources`."
   ]
  },
  {
   "cell_type": "code",
   "execution_count": 65,
   "id": "metropolitan-jumping",
   "metadata": {},
   "outputs": [],
   "source": [
    "from fhir.resources.patient import Patient\n",
    "from fhir.resources.address import Address\n",
    "from fhir.resources.fhirtypes import Date\n",
    "from fhir.resources.humanname import HumanName"
   ]
  },
  {
   "cell_type": "code",
   "execution_count": 66,
   "id": "laughing-spank",
   "metadata": {},
   "outputs": [],
   "source": [
    "def create_patient(properties):\n",
    "    # Some items in the patient resource require some extra work\n",
    "    properties = dict(properties)\n",
    "    properties['name'] = [HumanName(given=[properties['name']])]\n",
    "    \n",
    "    birthdate= properties['birthDate'].toPython()\n",
    "    properties['birthDate'] = Date(birthdate.year, birthdate.month, birthdate.day)\n",
    "    \n",
    "    return Patient(**properties)"
   ]
  },
  {
   "cell_type": "code",
   "execution_count": 67,
   "id": "liked-nursery",
   "metadata": {},
   "outputs": [
    {
     "name": "stdout",
     "output_type": "stream",
     "text": [
      "Patients as fhir resources:\n",
      "{\"id\": \"12345\", \"birthDate\": \"1981-03-04\", \"name\": [{\"given\": [\"Alice Williams\"]}], \"resourceType\": \"Patient\"}\n",
      "{\"id\": \"5678\", \"birthDate\": \"1991-03-10\", \"name\": [{\"given\": [\"Heidi Cook\"]}], \"resourceType\": \"Patient\"}\n"
     ]
    }
   ],
   "source": [
    "def create_patients():\n",
    "    for r in result:\n",
    "        d = r.asdict()\n",
    "        patient = create_patient(d)\n",
    "        yield patient\n",
    "        \n",
    "        \n",
    "patients = list(create_patients())\n",
    "\n",
    "print('Patients as fhir resources:')\n",
    "for p in patients:\n",
    "    print(p.json())"
   ]
  }
 ],
 "metadata": {
  "kernelspec": {
   "display_name": "Python 3",
   "language": "python",
   "name": "python3"
  },
  "language_info": {
   "codemirror_mode": {
    "name": "ipython",
    "version": 3
   },
   "file_extension": ".py",
   "mimetype": "text/x-python",
   "name": "python",
   "nbconvert_exporter": "python",
   "pygments_lexer": "ipython3",
   "version": "3.8.8"
  }
 },
 "nbformat": 4,
 "nbformat_minor": 5
}
