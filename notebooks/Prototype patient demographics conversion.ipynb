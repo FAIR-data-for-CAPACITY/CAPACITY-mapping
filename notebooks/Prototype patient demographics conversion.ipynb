{
 "cells": [
  {
   "cell_type": "code",
   "execution_count": 56,
   "id": "exterior-calcium",
   "metadata": {},
   "outputs": [],
   "source": [
    "import rdflib\n",
    "from rdflib import FOAF, RDF, URIRef, Literal, SKOS, Namespace"
   ]
  },
  {
   "cell_type": "markdown",
   "id": "incredible-remark",
   "metadata": {},
   "source": [
    "# Creating example patient demographics data"
   ]
  },
  {
   "cell_type": "code",
   "execution_count": 107,
   "id": "loose-omega",
   "metadata": {},
   "outputs": [],
   "source": [
    "# I'm making up a new namespace to define the property 'id'\n",
    "\n",
    "CUSTOM = Namespace('http://example.org/customNamespace')\n",
    "\n",
    "Alice = URIRef('http://example.org/people/Alice')\n",
    "Heidi = URIRef('http://example.org/people/Heidi')\n",
    "\n",
    "g = rdflib.Graph()\n",
    "\n",
    "g.add((Alice, CUSTOM.id, Literal('12345')))\n",
    "g.add((Alice, RDF.type, FOAF.Person))\n",
    "g.add((Alice, FOAF.name, Literal('Alice Williams')))\n",
    "\n",
    "g.add((Heidi, CUSTOM.id, Literal('5678')))\n",
    "g.add((Heidi, RDF.type, FOAF.Person))\n",
    "g.add((Heidi, FOAF.name, Literal('Heidi Cook')))"
   ]
  },
  {
   "cell_type": "markdown",
   "id": "oriental-volume",
   "metadata": {},
   "source": [
    "# Querying the patients\n",
    "For this quick prototype we're assuming that the URI of the elements serve as patient ids"
   ]
  },
  {
   "cell_type": "code",
   "execution_count": 117,
   "id": "cheap-juvenile",
   "metadata": {},
   "outputs": [],
   "source": [
    "query = '''\n",
    "PREFIX foaf: <http://xmlns.com/foaf/0.1/>\n",
    "PREFIX custom: <http://example.org/customNamespace>\n",
    "\n",
    "SELECT ?id ?name \n",
    "WHERE{\n",
    "?person a foaf:Person ;\n",
    "    foaf:name ?name ;\n",
    "    custom:id ?id\n",
    "}\n",
    "'''"
   ]
  },
  {
   "cell_type": "code",
   "execution_count": 119,
   "id": "animated-spectrum",
   "metadata": {},
   "outputs": [
    {
     "name": "stdout",
     "output_type": "stream",
     "text": [
      "id: 12345\n",
      "name: Alice Williams\n",
      "\n",
      "id: 5678\n",
      "name: Heidi Cook\n",
      "\n"
     ]
    }
   ],
   "source": [
    "result = g.query(query)\n",
    "\n",
    "for r in g.query(query):\n",
    "    for k, v in r.asdict().items():\n",
    "        print(f'{k}: {v}')\n",
    "        \n",
    "    print('')"
   ]
  },
  {
   "cell_type": "code",
   "execution_count": 120,
   "id": "metropolitan-jumping",
   "metadata": {},
   "outputs": [],
   "source": [
    "from fhir.resources.patient import Patient\n",
    "from fhir.resources.address import Address\n",
    "from fhir.resources.fhirtypes import Date\n",
    "from fhir.resources.humanname import HumanName"
   ]
  },
  {
   "cell_type": "code",
   "execution_count": 121,
   "id": "laughing-spank",
   "metadata": {},
   "outputs": [],
   "source": [
    "def create_patient(properties):\n",
    "    # Some items in the patient resource require some extra work\n",
    "    properties = dict(properties)\n",
    "    properties['name'] = [HumanName(given=[properties['name']])]\n",
    "    \n",
    "    \n",
    "    return Patient(**properties)"
   ]
  },
  {
   "cell_type": "code",
   "execution_count": 124,
   "id": "liked-nursery",
   "metadata": {},
   "outputs": [
    {
     "name": "stdout",
     "output_type": "stream",
     "text": [
      "{\"id\": \"12345\", \"name\": [{\"given\": [\"Alice Williams\"]}], \"resourceType\": \"Patient\"}\n",
      "{\"id\": \"5678\", \"name\": [{\"given\": [\"Heidi Cook\"]}], \"resourceType\": \"Patient\"}\n"
     ]
    }
   ],
   "source": [
    "def create_patients():\n",
    "    for r in result:\n",
    "        d = r.asdict()\n",
    "        patient = create_patient(d)\n",
    "        yield patient\n",
    "        \n",
    "        \n",
    "patients = list(create_patients())\n",
    "for p in patients:\n",
    "    print(p.json())"
   ]
  }
 ],
 "metadata": {
  "kernelspec": {
   "display_name": "Python 3",
   "language": "python",
   "name": "python3"
  },
  "language_info": {
   "codemirror_mode": {
    "name": "ipython",
    "version": 3
   },
   "file_extension": ".py",
   "mimetype": "text/x-python",
   "name": "python",
   "nbconvert_exporter": "python",
   "pygments_lexer": "ipython3",
   "version": "3.8.8"
  }
 },
 "nbformat": 4,
 "nbformat_minor": 5
}
